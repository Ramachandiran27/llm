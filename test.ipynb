{
 "cells": [
  {
   "cell_type": "code",
   "execution_count": 29,
   "metadata": {},
   "outputs": [],
   "source": [
    "import torch\n",
    "from itertools import chain\n",
    "from click import prompt\n",
    "from langchain_core.prompts import ChatPromptTemplate\n",
    "from langchain_text_splitters import RecursiveCharacterTextSplitter\n",
    "from langchain.schema.document import Document\n",
    "from langchain_community.embeddings.bedrock import BedrockEmbeddings\n",
    "from langchain_community.embeddings.ollama import OllamaEmbeddings\n",
    "from langchain.vectorstores import Chroma\n",
    "\n",
    "from langchain.memory import ConversationBufferMemory\n",
    "from langchain.chains import ConversationalRetrievalChain\n",
    "from langchain_core.output_parsers import StrOutputParser\n",
    "from langchain_community.llms import ollama\n",
    "from langchain.document_loaders import DirectoryLoader\n",
    "import streamlit as st\n"
   ]
  },
  {
   "cell_type": "code",
   "execution_count": 2,
   "metadata": {},
   "outputs": [],
   "source": [
    "device= torch.device(\"cuda\" if torch.cuda.is_available() else \"cpu\")"
   ]
  },
  {
   "cell_type": "code",
   "execution_count": 3,
   "metadata": {},
   "outputs": [
    {
     "data": {
      "text/plain": [
       "Document(metadata={'source': 'company_data.pdf', 'file_path': 'company_data.pdf', 'page': 0, 'total_pages': 5, 'format': 'PDF 1.7', 'title': '', 'author': 'Ram Chandran', 'subject': '', 'keywords': '', 'creator': 'Microsoft® Word 2021', 'producer': 'Microsoft® Word 2021', 'creationDate': \"D:20240712113318+05'30'\", 'modDate': \"D:20240712113318+05'30'\", 'trapped': ''}, page_content=\"Company Name: TALENTSHIP \\nHR Department Details \\nCompany Policies \\n1. Work Hours: Employees are expected to work 40 hours \\nper week. Flexible work hours are available. \\n2. Leave Policy: Employees are entitled to 2 casual leaves \\nand 2 sick leaves per month. \\n3. Remote Work Policy: Remote work is allowed for up to \\n2 days per week with prior approval from the manager. \\n4. Code of Conduct: All employees must adhere to the \\ncompany's code of conduct, which includes professional \\nbehavior, respect for colleagues, and maintaining \\nconfidentiality. \\n5. Performance Reviews: Performance reviews are \\nconducted bi-annually to ensure employees receive \\nconstructive feedback and opportunities for growth. \\nCompany Benefits \\n1. Health Insurance: Comprehensive health insurance for \\nemployees and their families. \\n2. Retirement Plans: Company-contributed retirement \\nsavings plan. \\n3. Professional Development: Funding for certifications, \\ncourses, and conferences. \\n4. Paid Time Off: 20 days of paid vacation annually, in \\naddition to the leave policy. \\n5. Employee Assistance Programs: Counseling and \\nsupport services for employees. \\n \\n \\n\")"
      ]
     },
     "execution_count": 3,
     "metadata": {},
     "output_type": "execute_result"
    }
   ],
   "source": [
    "from langchain_community.document_loaders import PyMuPDFLoader\n",
    "\n",
    "loader = PyMuPDFLoader(\n",
    "    \"company_data.pdf\")\n",
    "data = loader.load()\n",
    "data[0]\n"
   ]
  },
  {
   "cell_type": "code",
   "execution_count": 19,
   "metadata": {},
   "outputs": [
    {
     "data": {
      "text/plain": [
       "\"Company Name: TALENTSHIP \\nHR Department Details \\nCompany Policies \\n1. Work Hours: Employees are expected to work 40 hours \\nper week. Flexible work hours are available. \\n2. Leave Policy: Employees are entitled to 2 casual leaves \\nand 2 sick leaves per month. \\n3. Remote Work Policy: Remote work is allowed for up to \\n2 days per week with prior approval from the manager. \\n4. Code of Conduct: All employees must adhere to the \\ncompany's code of conduct, which includes professional \\nbehavior, respect for colleagues, and maintaining \\nconfidentiality. \\n5. Performance Reviews: Performance reviews are \\nconducted bi-annually to ensure employees receive \\nconstructive feedback and opportunities for growth. \\nCompany Benefits \\n1. Health Insurance: Comprehensive health insurance for \\nemployees and their families. \\n2. Retirement Plans: Company-contributed retirement \\nsavings plan. \\n3. Professional Development: Funding for certifications, \\ncourses, and conferences. \\n4. Paid Time Off: 20 days of paid vacation annually, in \\naddition to the leave policy. \\n5. Employee Assistance Programs: Counseling and \\nsupport services for employees. \\n \\n \\n\""
      ]
     },
     "execution_count": 19,
     "metadata": {},
     "output_type": "execute_result"
    }
   ],
   "source": [
    "data[0].page_content\n"
   ]
  },
  {
   "cell_type": "code",
   "execution_count": 20,
   "metadata": {},
   "outputs": [
    {
     "data": {
      "text/plain": [
       "list"
      ]
     },
     "execution_count": 20,
     "metadata": {},
     "output_type": "execute_result"
    }
   ],
   "source": [
    "type(data)"
   ]
  },
  {
   "cell_type": "code",
   "execution_count": 21,
   "metadata": {},
   "outputs": [],
   "source": [
    "def split_documents(documents:list(data)):\n",
    "    text_splitter = RecursiveCharacterTextSplitter(\n",
    "        chunk_size=800,\n",
    "        chunk_overlap=80,\n",
    "        length_function=len,\n",
    "        is_separator_regex=False\n",
    "    )\n",
    "    return text_splitter.split_documents(documents)"
   ]
  },
  {
   "cell_type": "code",
   "execution_count": 22,
   "metadata": {},
   "outputs": [
    {
     "data": {
      "text/plain": [
       "[Document(metadata={'source': 'company_data.pdf', 'file_path': 'company_data.pdf', 'page': 0, 'total_pages': 5, 'format': 'PDF 1.7', 'title': '', 'author': 'Ram Chandran', 'subject': '', 'keywords': '', 'creator': 'Microsoft® Word 2021', 'producer': 'Microsoft® Word 2021', 'creationDate': \"D:20240712113318+05'30'\", 'modDate': \"D:20240712113318+05'30'\", 'trapped': ''}, page_content=\"Company Name: TALENTSHIP \\nHR Department Details \\nCompany Policies \\n1. Work Hours: Employees are expected to work 40 hours \\nper week. Flexible work hours are available. \\n2. Leave Policy: Employees are entitled to 2 casual leaves \\nand 2 sick leaves per month. \\n3. Remote Work Policy: Remote work is allowed for up to \\n2 days per week with prior approval from the manager. \\n4. Code of Conduct: All employees must adhere to the \\ncompany's code of conduct, which includes professional \\nbehavior, respect for colleagues, and maintaining \\nconfidentiality. \\n5. Performance Reviews: Performance reviews are \\nconducted bi-annually to ensure employees receive \\nconstructive feedback and opportunities for growth. \\nCompany Benefits \\n1. Health Insurance: Comprehensive health insurance for\"),\n",
       " Document(metadata={'source': 'company_data.pdf', 'file_path': 'company_data.pdf', 'page': 0, 'total_pages': 5, 'format': 'PDF 1.7', 'title': '', 'author': 'Ram Chandran', 'subject': '', 'keywords': '', 'creator': 'Microsoft® Word 2021', 'producer': 'Microsoft® Word 2021', 'creationDate': \"D:20240712113318+05'30'\", 'modDate': \"D:20240712113318+05'30'\", 'trapped': ''}, page_content='Company Benefits \\n1. Health Insurance: Comprehensive health insurance for \\nemployees and their families. \\n2. Retirement Plans: Company-contributed retirement \\nsavings plan. \\n3. Professional Development: Funding for certifications, \\ncourses, and conferences. \\n4. Paid Time Off: 20 days of paid vacation annually, in \\naddition to the leave policy. \\n5. Employee Assistance Programs: Counseling and \\nsupport services for employees.'),\n",
       " Document(metadata={'source': 'company_data.pdf', 'file_path': 'company_data.pdf', 'page': 1, 'total_pages': 5, 'format': 'PDF 1.7', 'title': '', 'author': 'Ram Chandran', 'subject': '', 'keywords': '', 'creator': 'Microsoft® Word 2021', 'producer': 'Microsoft® Word 2021', 'creationDate': \"D:20240712113318+05'30'\", 'modDate': \"D:20240712113318+05'30'\", 'trapped': ''}, page_content='Employee Details \\n1. Employee 1 \\no Name: John Doe \\no Employee ID: TS001 \\no Email: john.doe@talentship.com \\no Location: New York \\no Shift: Morning \\n2. Employee 2 \\no Name: Jane Smith \\no Employee ID: TS002 \\no Email: jane.smith@talentship.com \\no Location: San Francisco \\no Shift: Evening \\n3. Employee 3 \\no Name: Mike Johnson \\no Employee ID: TS003 \\no Email: mike.johnson@talentship.com \\no Location: Chicago \\no Shift: Night \\n4. Employee 4 \\no Name: Emily Davis \\no Employee ID: TS004 \\no Email: emily.davis@talentship.com \\no Location: Seattle \\no Shift: Morning \\n5. Employee 5 \\no Name: David Brown \\no Employee ID: TS005 \\no Email: david.brown@talentship.com \\no Location: Boston \\no Shift: Evening'),\n",
       " Document(metadata={'source': 'company_data.pdf', 'file_path': 'company_data.pdf', 'page': 2, 'total_pages': 5, 'format': 'PDF 1.7', 'title': '', 'author': 'Ram Chandran', 'subject': '', 'keywords': '', 'creator': 'Microsoft® Word 2021', 'producer': 'Microsoft® Word 2021', 'creationDate': \"D:20240712113318+05'30'\", 'modDate': \"D:20240712113318+05'30'\", 'trapped': ''}, page_content='Leave Details \\nEmployee 1: John Doe \\n• \\nEmployee ID: TS001 \\n• \\nMonth: July \\n• \\nDays Present: 20 \\n• \\nCasual Leave Taken: 2 \\n• \\nSick Leave Taken: 1 \\nEmployee 2: Jane Smith \\n• \\nEmployee ID: TS002 \\n• \\nMonth: July \\n• \\nDays Present: 18 \\n• \\nCasual Leave Taken: 1 \\n• \\nSick Leave Taken: 2 \\nEmployee 3: Mike Johnson \\n• \\nEmployee ID: TS003 \\n• \\nMonth: July \\n• \\nDays Present: 22 \\n• \\nCasual Leave Taken: 1 \\n• \\nSick Leave Taken: 1 \\nEmployee 4: Emily Davis \\n• \\nEmployee ID: TS004 \\n• \\nMonth: July \\n• \\nDays Present: 19 \\n• \\nCasual Leave Taken: 2 \\n• \\nSick Leave Taken: 2 \\nEmployee 5: David Brown \\n• \\nEmployee ID: TS005 \\n• \\nMonth: July \\n• \\nDays Present: 21 \\n• \\nCasual Leave Taken: 2 \\n• \\nSick Leave Taken: 1'),\n",
       " Document(metadata={'source': 'company_data.pdf', 'file_path': 'company_data.pdf', 'page': 3, 'total_pages': 5, 'format': 'PDF 1.7', 'title': '', 'author': 'Ram Chandran', 'subject': '', 'keywords': '', 'creator': 'Microsoft® Word 2021', 'producer': 'Microsoft® Word 2021', 'creationDate': \"D:20240712113318+05'30'\", 'modDate': \"D:20240712113318+05'30'\", 'trapped': ''}, page_content='Salary Details \\nEmployee 1: John Doe \\n• \\nEmployee ID: TS001 \\n• \\nSalary: $80,000 \\n• \\nPAN Card Number: ABCD1234E \\n• \\nSalary Status: Credited \\nEmployee 2: Jane Smith \\n• \\nEmployee ID: TS002 \\n• \\nSalary: $85,000 \\n• \\nPAN Card Number: EFGH5678I \\n• \\nSalary Status: Credited \\nEmployee 3: Mike Johnson \\n• \\nEmployee ID: TS003 \\n• \\nSalary: $78,000 \\n• \\nPAN Card Number: IJKL9101M \\n• \\nSalary Status: Credited \\nEmployee 4: Emily Davis \\n• \\nEmployee ID: TS004 \\n• \\nSalary: $90,000 \\n• \\nPAN Card Number: MNOP2345Q \\n• \\nSalary Status: Credited \\nEmployee 5: David Brown \\n• \\nEmployee ID: TS005 \\n• \\nSalary: $83,000 \\n• \\nPAN Card Number: QRST6789U \\n• \\nSalary Status: Credited'),\n",
       " Document(metadata={'source': 'company_data.pdf', 'file_path': 'company_data.pdf', 'page': 4, 'total_pages': 5, 'format': 'PDF 1.7', 'title': '', 'author': 'Ram Chandran', 'subject': '', 'keywords': '', 'creator': 'Microsoft® Word 2021', 'producer': 'Microsoft® Word 2021', 'creationDate': \"D:20240712113318+05'30'\", 'modDate': \"D:20240712113318+05'30'\", 'trapped': ''}, page_content='Job Openings/Vacancies \\n1. Full Stack Developer \\no Experience: 3+ years \\no Shift: Morning \\no Salary Package: $95,000 - $110,000 \\no Job Description: Responsible for developing and maintaining web \\napplications, ensuring cross-platform optimization, and collaborating with \\nfront-end and back-end developers. \\no Application: Visit our career page or email hr@talentship.com \\n2. AI Engineer \\no Experience: Fresher or 1+ years \\no Shift: Evening \\no Salary Package: $85,000 - $100,000 \\no Job Description: Design and implement machine learning models, analyze \\ndata, and work on AI-driven solutions for clients. \\no Application: Visit our career page or email hr@talentship.com \\n3. Marketing Executive \\no Experience: 2+ years \\no Shift: Morning \\no Salary Package: $60,000 - $75,000'),\n",
       " Document(metadata={'source': 'company_data.pdf', 'file_path': 'company_data.pdf', 'page': 4, 'total_pages': 5, 'format': 'PDF 1.7', 'title': '', 'author': 'Ram Chandran', 'subject': '', 'keywords': '', 'creator': 'Microsoft® Word 2021', 'producer': 'Microsoft® Word 2021', 'creationDate': \"D:20240712113318+05'30'\", 'modDate': \"D:20240712113318+05'30'\", 'trapped': ''}, page_content='o Experience: 2+ years \\no Shift: Morning \\no Salary Package: $60,000 - $75,000 \\no Job Description: Develop marketing strategies, manage social media \\ncampaigns, and analyze market trends to enhance brand visibility. \\no Application: Visit our career page or email hr@talentship.com \\n4. HR Manager \\no Experience: 5+ years \\no Shift: Morning \\no Salary Package: $100,000 - $120,000 \\no Job Description: Oversee HR operations, manage recruitment processes, and \\ndevelop policies that support organizational goals. \\no Application: Visit our career page or email hr@talentship.com \\n5. For Freshers please provide you educational data team will contact you in future. \\n \\n \\nCompany Services \\n1. IT Consulting: Providing expert advice and solutions to optimize IT infrastructure \\nand operations.'),\n",
       " Document(metadata={'source': 'company_data.pdf', 'file_path': 'company_data.pdf', 'page': 4, 'total_pages': 5, 'format': 'PDF 1.7', 'title': '', 'author': 'Ram Chandran', 'subject': '', 'keywords': '', 'creator': 'Microsoft® Word 2021', 'producer': 'Microsoft® Word 2021', 'creationDate': \"D:20240712113318+05'30'\", 'modDate': \"D:20240712113318+05'30'\", 'trapped': ''}, page_content='and operations. \\n2. Software Development: Custom software development services for web, mobile, and \\ndesktop applications. \\n3. Cloud Services: Cloud migration, management, and optimization services. \\n4. AI and Machine Learning Solutions: Developing AI-driven solutions for various \\nbusiness needs, including predictive analytics, natural language processing, and \\ncomputer vision. \\n5. Cybersecurity: Comprehensive cybersecurity services including threat assessment, \\nmonitoring, and incident response. \\nThis covers the requested details for TalentShip. If you need further information or \\nmodifications, feel free to ask!')]"
      ]
     },
     "execution_count": 22,
     "metadata": {},
     "output_type": "execute_result"
    }
   ],
   "source": [
    "split_documents(data)"
   ]
  },
  {
   "cell_type": "code",
   "execution_count": 35,
   "metadata": {},
   "outputs": [
    {
     "name": "stdout",
     "output_type": "stream",
     "text": [
      "page_content='Company Name: TALENTSHIP \n",
      "HR Department Details \n",
      "Company Policies \n",
      "1. Work Hours: Employees are expected to work 40 hours \n",
      "per week. Flexible work hours are available. \n",
      "2. Leave Policy: Employees are entitled to 2 casual leaves \n",
      "and 2 sick leaves per month. \n",
      "3. Remote Work Policy: Remote work is allowed for up to \n",
      "2 days per week with prior approval from the manager. \n",
      "4. Code of Conduct: All employees must adhere to the \n",
      "company's code of conduct, which includes professional \n",
      "behavior, respect for colleagues, and maintaining \n",
      "confidentiality. \n",
      "5. Performance Reviews: Performance reviews are \n",
      "conducted bi-annually to ensure employees receive \n",
      "constructive feedback and opportunities for growth. \n",
      "Company Benefits \n",
      "1. Health Insurance: Comprehensive health insurance for' metadata={'source': 'company_data.pdf', 'file_path': 'company_data.pdf', 'page': 0, 'total_pages': 5, 'format': 'PDF 1.7', 'title': '', 'author': 'Ram Chandran', 'subject': '', 'keywords': '', 'creator': 'Microsoft® Word 2021', 'producer': 'Microsoft® Word 2021', 'creationDate': \"D:20240712113318+05'30'\", 'modDate': \"D:20240712113318+05'30'\", 'trapped': ''}\n"
     ]
    }
   ],
   "source": [
    "chuncks=split_documents(data)\n",
    "print(chuncks[0])"
   ]
  },
  {
   "cell_type": "code",
   "execution_count": 40,
   "metadata": {},
   "outputs": [
    {
     "data": {
      "text/plain": [
       "[Document(metadata={'source': 'company_data.pdf', 'file_path': 'company_data.pdf', 'page': 0, 'total_pages': 5, 'format': 'PDF 1.7', 'title': '', 'author': 'Ram Chandran', 'subject': '', 'keywords': '', 'creator': 'Microsoft® Word 2021', 'producer': 'Microsoft® Word 2021', 'creationDate': \"D:20240712113318+05'30'\", 'modDate': \"D:20240712113318+05'30'\", 'trapped': ''}, page_content=\"Company Name: TALENTSHIP \\nHR Department Details \\nCompany Policies \\n1. Work Hours: Employees are expected to work 40 hours \\nper week. Flexible work hours are available. \\n2. Leave Policy: Employees are entitled to 2 casual leaves \\nand 2 sick leaves per month. \\n3. Remote Work Policy: Remote work is allowed for up to \\n2 days per week with prior approval from the manager. \\n4. Code of Conduct: All employees must adhere to the \\ncompany's code of conduct, which includes professional \\nbehavior, respect for colleagues, and maintaining \\nconfidentiality. \\n5. Performance Reviews: Performance reviews are \\nconducted bi-annually to ensure employees receive \\nconstructive feedback and opportunities for growth. \\nCompany Benefits \\n1. Health Insurance: Comprehensive health insurance for\"),\n",
       " Document(metadata={'source': 'company_data.pdf', 'file_path': 'company_data.pdf', 'page': 0, 'total_pages': 5, 'format': 'PDF 1.7', 'title': '', 'author': 'Ram Chandran', 'subject': '', 'keywords': '', 'creator': 'Microsoft® Word 2021', 'producer': 'Microsoft® Word 2021', 'creationDate': \"D:20240712113318+05'30'\", 'modDate': \"D:20240712113318+05'30'\", 'trapped': ''}, page_content='Company Benefits \\n1. Health Insurance: Comprehensive health insurance for \\nemployees and their families. \\n2. Retirement Plans: Company-contributed retirement \\nsavings plan. \\n3. Professional Development: Funding for certifications, \\ncourses, and conferences. \\n4. Paid Time Off: 20 days of paid vacation annually, in \\naddition to the leave policy. \\n5. Employee Assistance Programs: Counseling and \\nsupport services for employees.'),\n",
       " Document(metadata={'source': 'company_data.pdf', 'file_path': 'company_data.pdf', 'page': 1, 'total_pages': 5, 'format': 'PDF 1.7', 'title': '', 'author': 'Ram Chandran', 'subject': '', 'keywords': '', 'creator': 'Microsoft® Word 2021', 'producer': 'Microsoft® Word 2021', 'creationDate': \"D:20240712113318+05'30'\", 'modDate': \"D:20240712113318+05'30'\", 'trapped': ''}, page_content='Employee Details \\n1. Employee 1 \\no Name: John Doe \\no Employee ID: TS001 \\no Email: john.doe@talentship.com \\no Location: New York \\no Shift: Morning \\n2. Employee 2 \\no Name: Jane Smith \\no Employee ID: TS002 \\no Email: jane.smith@talentship.com \\no Location: San Francisco \\no Shift: Evening \\n3. Employee 3 \\no Name: Mike Johnson \\no Employee ID: TS003 \\no Email: mike.johnson@talentship.com \\no Location: Chicago \\no Shift: Night \\n4. Employee 4 \\no Name: Emily Davis \\no Employee ID: TS004 \\no Email: emily.davis@talentship.com \\no Location: Seattle \\no Shift: Morning \\n5. Employee 5 \\no Name: David Brown \\no Employee ID: TS005 \\no Email: david.brown@talentship.com \\no Location: Boston \\no Shift: Evening'),\n",
       " Document(metadata={'source': 'company_data.pdf', 'file_path': 'company_data.pdf', 'page': 2, 'total_pages': 5, 'format': 'PDF 1.7', 'title': '', 'author': 'Ram Chandran', 'subject': '', 'keywords': '', 'creator': 'Microsoft® Word 2021', 'producer': 'Microsoft® Word 2021', 'creationDate': \"D:20240712113318+05'30'\", 'modDate': \"D:20240712113318+05'30'\", 'trapped': ''}, page_content='Leave Details \\nEmployee 1: John Doe \\n• \\nEmployee ID: TS001 \\n• \\nMonth: July \\n• \\nDays Present: 20 \\n• \\nCasual Leave Taken: 2 \\n• \\nSick Leave Taken: 1 \\nEmployee 2: Jane Smith \\n• \\nEmployee ID: TS002 \\n• \\nMonth: July \\n• \\nDays Present: 18 \\n• \\nCasual Leave Taken: 1 \\n• \\nSick Leave Taken: 2 \\nEmployee 3: Mike Johnson \\n• \\nEmployee ID: TS003 \\n• \\nMonth: July \\n• \\nDays Present: 22 \\n• \\nCasual Leave Taken: 1 \\n• \\nSick Leave Taken: 1 \\nEmployee 4: Emily Davis \\n• \\nEmployee ID: TS004 \\n• \\nMonth: July \\n• \\nDays Present: 19 \\n• \\nCasual Leave Taken: 2 \\n• \\nSick Leave Taken: 2 \\nEmployee 5: David Brown \\n• \\nEmployee ID: TS005 \\n• \\nMonth: July \\n• \\nDays Present: 21 \\n• \\nCasual Leave Taken: 2 \\n• \\nSick Leave Taken: 1'),\n",
       " Document(metadata={'source': 'company_data.pdf', 'file_path': 'company_data.pdf', 'page': 3, 'total_pages': 5, 'format': 'PDF 1.7', 'title': '', 'author': 'Ram Chandran', 'subject': '', 'keywords': '', 'creator': 'Microsoft® Word 2021', 'producer': 'Microsoft® Word 2021', 'creationDate': \"D:20240712113318+05'30'\", 'modDate': \"D:20240712113318+05'30'\", 'trapped': ''}, page_content='Salary Details \\nEmployee 1: John Doe \\n• \\nEmployee ID: TS001 \\n• \\nSalary: $80,000 \\n• \\nPAN Card Number: ABCD1234E \\n• \\nSalary Status: Credited \\nEmployee 2: Jane Smith \\n• \\nEmployee ID: TS002 \\n• \\nSalary: $85,000 \\n• \\nPAN Card Number: EFGH5678I \\n• \\nSalary Status: Credited \\nEmployee 3: Mike Johnson \\n• \\nEmployee ID: TS003 \\n• \\nSalary: $78,000 \\n• \\nPAN Card Number: IJKL9101M \\n• \\nSalary Status: Credited \\nEmployee 4: Emily Davis \\n• \\nEmployee ID: TS004 \\n• \\nSalary: $90,000 \\n• \\nPAN Card Number: MNOP2345Q \\n• \\nSalary Status: Credited \\nEmployee 5: David Brown \\n• \\nEmployee ID: TS005 \\n• \\nSalary: $83,000 \\n• \\nPAN Card Number: QRST6789U \\n• \\nSalary Status: Credited'),\n",
       " Document(metadata={'source': 'company_data.pdf', 'file_path': 'company_data.pdf', 'page': 4, 'total_pages': 5, 'format': 'PDF 1.7', 'title': '', 'author': 'Ram Chandran', 'subject': '', 'keywords': '', 'creator': 'Microsoft® Word 2021', 'producer': 'Microsoft® Word 2021', 'creationDate': \"D:20240712113318+05'30'\", 'modDate': \"D:20240712113318+05'30'\", 'trapped': ''}, page_content='Job Openings/Vacancies \\n1. Full Stack Developer \\no Experience: 3+ years \\no Shift: Morning \\no Salary Package: $95,000 - $110,000 \\no Job Description: Responsible for developing and maintaining web \\napplications, ensuring cross-platform optimization, and collaborating with \\nfront-end and back-end developers. \\no Application: Visit our career page or email hr@talentship.com \\n2. AI Engineer \\no Experience: Fresher or 1+ years \\no Shift: Evening \\no Salary Package: $85,000 - $100,000 \\no Job Description: Design and implement machine learning models, analyze \\ndata, and work on AI-driven solutions for clients. \\no Application: Visit our career page or email hr@talentship.com \\n3. Marketing Executive \\no Experience: 2+ years \\no Shift: Morning \\no Salary Package: $60,000 - $75,000'),\n",
       " Document(metadata={'source': 'company_data.pdf', 'file_path': 'company_data.pdf', 'page': 4, 'total_pages': 5, 'format': 'PDF 1.7', 'title': '', 'author': 'Ram Chandran', 'subject': '', 'keywords': '', 'creator': 'Microsoft® Word 2021', 'producer': 'Microsoft® Word 2021', 'creationDate': \"D:20240712113318+05'30'\", 'modDate': \"D:20240712113318+05'30'\", 'trapped': ''}, page_content='o Experience: 2+ years \\no Shift: Morning \\no Salary Package: $60,000 - $75,000 \\no Job Description: Develop marketing strategies, manage social media \\ncampaigns, and analyze market trends to enhance brand visibility. \\no Application: Visit our career page or email hr@talentship.com \\n4. HR Manager \\no Experience: 5+ years \\no Shift: Morning \\no Salary Package: $100,000 - $120,000 \\no Job Description: Oversee HR operations, manage recruitment processes, and \\ndevelop policies that support organizational goals. \\no Application: Visit our career page or email hr@talentship.com \\n5. For Freshers please provide you educational data team will contact you in future. \\n \\n \\nCompany Services \\n1. IT Consulting: Providing expert advice and solutions to optimize IT infrastructure \\nand operations.'),\n",
       " Document(metadata={'source': 'company_data.pdf', 'file_path': 'company_data.pdf', 'page': 4, 'total_pages': 5, 'format': 'PDF 1.7', 'title': '', 'author': 'Ram Chandran', 'subject': '', 'keywords': '', 'creator': 'Microsoft® Word 2021', 'producer': 'Microsoft® Word 2021', 'creationDate': \"D:20240712113318+05'30'\", 'modDate': \"D:20240712113318+05'30'\", 'trapped': ''}, page_content='and operations. \\n2. Software Development: Custom software development services for web, mobile, and \\ndesktop applications. \\n3. Cloud Services: Cloud migration, management, and optimization services. \\n4. AI and Machine Learning Solutions: Developing AI-driven solutions for various \\nbusiness needs, including predictive analytics, natural language processing, and \\ncomputer vision. \\n5. Cybersecurity: Comprehensive cybersecurity services including threat assessment, \\nmonitoring, and incident response. \\nThis covers the requested details for TalentShip. If you need further information or \\nmodifications, feel free to ask!')]"
      ]
     },
     "execution_count": 40,
     "metadata": {},
     "output_type": "execute_result"
    }
   ],
   "source": [
    "chuncks"
   ]
  },
  {
   "cell_type": "code",
   "execution_count": 25,
   "metadata": {},
   "outputs": [],
   "source": [
    "#embedding \n",
    "from openai import embeddings\n",
    "\n",
    "\n",
    "def get_embedding_function():\n",
    "    embeddings = BedrockEmbeddings(\n",
    "        credentials_profile_name=\"default\",region_name=\"us-east-1\"\n",
    "    )\n",
    "    return embeddings"
   ]
  },
  {
   "cell_type": "code",
   "execution_count": 37,
   "metadata": {},
   "outputs": [],
   "source": [
    "#def ollama_embedder():\n",
    "#   embeddings=OllamaEmbeddings(model=\"nomic-embeb-text\")\n",
    "#   return embeddings"
   ]
  },
  {
   "cell_type": "code",
   "execution_count": 38,
   "metadata": {},
   "outputs": [],
   "source": [
    "from langchain.vectorstores.chroma import Chroma"
   ]
  },
  {
   "cell_type": "code",
   "execution_count": 39,
   "metadata": {},
   "outputs": [],
   "source": [
    "# Creating vector data base\n",
    "def add_to_chroma(chuncks=list[data]):\n",
    "    db=Chroma(\n",
    "        persist_directory=\"db\",embedding_function=get_embedding_function()\n",
    "    )\n",
    "    db.add_documents(new_chuncks, ids=new_chunck_ids)\n",
    "    db.persist()"
   ]
  },
  {
   "cell_type": "code",
   "execution_count": 9,
   "metadata": {},
   "outputs": [],
   "source": [
    "from langchain.prompts import PromptTemplate, ChatPromptTemplate\n",
    "from langchain_community.chat_models import ChatOllama\n",
    "from langchain_core.runnables import RunnablePassthrough\n",
    "from langchain.retrievers import MultiQueryRetriever"
   ]
  },
  {
   "cell_type": "code",
   "execution_count": 10,
   "metadata": {},
   "outputs": [],
   "source": [
    "local_model=\"llama3\"\n",
    "llm=ChatOllama(model=local_model)"
   ]
  },
  {
   "cell_type": "code",
   "execution_count": 16,
   "metadata": {},
   "outputs": [],
   "source": [
    "input_txt=input(\"Enter your message...\")"
   ]
  },
  {
   "cell_type": "code",
   "execution_count": 11,
   "metadata": {},
   "outputs": [],
   "source": [
    "prompt= ChatPromptTemplate.from_messages([\n",
    "    (\"system\",\"you are a chat HR chat bot. you guide for the HR department queries. you name is Talentship ai\"),\n",
    "    (\"user\",\"user query:{query}\")\n",
    "])"
   ]
  },
  {
   "cell_type": "code",
   "execution_count": 12,
   "metadata": {},
   "outputs": [],
   "source": [
    "retriever = MultiQueryRetriever.from_llm(\n",
    "    vector_db.as_retriever(),\n",
    "    llm,\n",
    "    prompt=prompt\n",
    ")"
   ]
  },
  {
   "cell_type": "code",
   "execution_count": 13,
   "metadata": {},
   "outputs": [],
   "source": [
    "temeplate=\"\"\"Answer the following questions as best you can. You have access to the following tools:\n",
    "{context}\n",
    "question: {question}\"\"\"\n",
    "\n",
    "prompt=ChatPromptTemplate.from_template(temeplate)"
   ]
  },
  {
   "cell_type": "code",
   "execution_count": 14,
   "metadata": {},
   "outputs": [],
   "source": [
    "chain=(\n",
    "    {'context': retriever,\"question\":RunnablePassthrough}\n",
    "    | prompt\n",
    "    | llm\n",
    "    |StrOutputParser()\n",
    ")"
   ]
  },
  {
   "cell_type": "code",
   "execution_count": null,
   "metadata": {},
   "outputs": [],
   "source": []
  },
  {
   "cell_type": "code",
   "execution_count": null,
   "metadata": {},
   "outputs": [],
   "source": []
  }
 ],
 "metadata": {
  "kernelspec": {
   "display_name": "Python 3",
   "language": "python",
   "name": "python3"
  },
  "language_info": {
   "codemirror_mode": {
    "name": "ipython",
    "version": 3
   },
   "file_extension": ".py",
   "mimetype": "text/x-python",
   "name": "python",
   "nbconvert_exporter": "python",
   "pygments_lexer": "ipython3",
   "version": "3.12.4"
  }
 },
 "nbformat": 4,
 "nbformat_minor": 2
}
